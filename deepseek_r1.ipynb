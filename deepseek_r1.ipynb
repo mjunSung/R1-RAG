{
 "cells": [
  {
   "cell_type": "code",
   "execution_count": 1,
   "metadata": {},
   "outputs": [],
   "source": [
    "# %pip install langchain-core Langgraph  Langchain-ollama"
   ]
  },
  {
   "cell_type": "code",
   "execution_count": 2,
   "metadata": {},
   "outputs": [],
   "source": [
    "from IPython.display import Markdown, display, Image"
   ]
  },
  {
   "cell_type": "markdown",
   "metadata": {},
   "source": [
    "## Ollama 모델 가져오기"
   ]
  },
  {
   "cell_type": "code",
   "execution_count": 17,
   "metadata": {},
   "outputs": [],
   "source": [
    "from langchain_ollama import ChatOllama\n",
    "\n",
    "deepseek = ChatOllama(model = \"deepseek-r1:7b\", temperature = 0.5)\n",
    "exaone = ChatOllama(model = \"exaone3.5:7.8b\", temperature = 0.5)"
   ]
  },
  {
   "cell_type": "markdown",
   "metadata": {},
   "source": [
    "## Deepseek 3.9, 3.11 대소 비교 (English)"
   ]
  },
  {
   "cell_type": "code",
   "execution_count": 4,
   "metadata": {},
   "outputs": [
    {
     "name": "stdout",
     "output_type": "stream",
     "text": [
      "<think>\n",
      "To determine which number is larger between 9.9 and 9.11, I will first ensure that both numbers have the same number of decimal places.\n",
      "\n",
      "I can rewrite 9.9 as 9.90 to match the two decimal places of 9.11.\n",
      "\n",
      "Next, I'll compare each corresponding digit starting from the units place.\n",
      "\n",
      "Both numbers have a 9 in the units place, so they are equal there.\n",
      "\n",
      "Moving to the tenths place, 9.90 has a 9 while 9.11 has a 1. Since 9 is greater than 1, 9.90 is larger than 9.11.\n",
      "\n",
      "Therefore, 9.9 is bigger than 9.11.\n",
      "</think>\n",
      "\n",
      "To determine which number is larger between **9.9** and **9.11**, let's compare them step by step.\n",
      "\n",
      "### Step 1: Align the Decimal Places\n",
      "First, ensure both numbers have the same number of decimal places for an accurate comparison.\n",
      "\n",
      "- **9.9** can be written as **9.90** (adding a zero at the end doesn't change its value).\n",
      "- **9.11** remains as is.\n",
      "\n",
      "Now, we compare:\n",
      "- **9.90**\n",
      "- **9.11**\n",
      "\n",
      "### Step 2: Compare Digit by Digit\n",
      "Starting from the left (units place), compare each corresponding digit:\n",
      "\n",
      "1. **Units Place:** Both numbers have a **9**.\n",
      "   \n",
      "2. **Tenths Place:** \n",
      "   - **9.90** has a **9** in the tenths place.\n",
      "   - **9.11** has a **1** in the tenths place.\n",
      "   \n",
      "Since **9 > 1**, **9.90** is greater than **9.11**.\n",
      "\n",
      "### Conclusion\n",
      "Therefore, **9.9** (or **9.90**) is larger than **9.11**.\n",
      "\n",
      "\\[\n",
      "\\boxed{9.9 \\text{ is bigger than } 9.11}\n",
      "\\]"
     ]
    },
    {
     "data": {
      "text/markdown": [
       "<think>\n",
       "To determine which number is larger between 9.9 and 9.11, I will first ensure that both numbers have the same number of decimal places.\n",
       "\n",
       "I can rewrite 9.9 as 9.90 to match the two decimal places of 9.11.\n",
       "\n",
       "Next, I'll compare each corresponding digit starting from the units place.\n",
       "\n",
       "Both numbers have a 9 in the units place, so they are equal there.\n",
       "\n",
       "Moving to the tenths place, 9.90 has a 9 while 9.11 has a 1. Since 9 is greater than 1, 9.90 is larger than 9.11.\n",
       "\n",
       "Therefore, 9.9 is bigger than 9.11.\n",
       "</think>\n",
       "\n",
       "To determine which number is larger between **9.9** and **9.11**, let's compare them step by step.\n",
       "\n",
       "### Step 1: Align the Decimal Places\n",
       "First, ensure both numbers have the same number of decimal places for an accurate comparison.\n",
       "\n",
       "- **9.9** can be written as **9.90** (adding a zero at the end doesn't change its value).\n",
       "- **9.11** remains as is.\n",
       "\n",
       "Now, we compare:\n",
       "- **9.90**\n",
       "- **9.11**\n",
       "\n",
       "### Step 2: Compare Digit by Digit\n",
       "Starting from the left (units place), compare each corresponding digit:\n",
       "\n",
       "1. **Units Place:** Both numbers have a **9**.\n",
       "   \n",
       "2. **Tenths Place:** \n",
       "   - **9.90** has a **9** in the tenths place.\n",
       "   - **9.11** has a **1** in the tenths place.\n",
       "   \n",
       "Since **9 > 1**, **9.90** is greater than **9.11**.\n",
       "\n",
       "### Conclusion\n",
       "Therefore, **9.9** (or **9.90**) is larger than **9.11**.\n",
       "\n",
       "\\[\n",
       "\\boxed{9.9 \\text{ is bigger than } 9.11}\n",
       "\\]"
      ],
      "text/plain": [
       "<IPython.core.display.Markdown object>"
      ]
     },
     "metadata": {},
     "output_type": "display_data"
    }
   ],
   "source": [
    "answer = []\n",
    "for chunk in deepseek.stream(\"What is bigger than between 9.9 and 9.11\"):\n",
    "    answer.append(chunk.content)\n",
    "    print(chunk.content, end = \"\", flush = True) # 대화형처럼 출력되기 위해 flush = True\n",
    "\n",
    "answer_md = ''.join([i for i in answer])\n",
    "display(Markdown(answer_md))"
   ]
  },
  {
   "cell_type": "markdown",
   "metadata": {},
   "source": [
    "기존 LLM이 답변을 잘 못하는 문제에대해서 추론모델이여서 답변을 잘 하는 것을 확인, 그리고 확실히 영어 질문에 대해서 답변을 잘함"
   ]
  },
  {
   "cell_type": "markdown",
   "metadata": {},
   "source": [
    "## Deepseek 3.9, 3.11 대소 비교 (Korean)"
   ]
  },
  {
   "cell_type": "code",
   "execution_count": 18,
   "metadata": {},
   "outputs": [
    {
     "name": "stdout",
     "output_type": "stream",
     "text": [
      "<think>\n",
      "먼저, 9.9와 9.11을 비교하는 기준을 결정합니다.  decimla point 를 based 로 비교하는 가장 atural method 입니다. \n",
      "\n",
      "다른 방법으로 convert dozen decimal numbers integer form 에 가 수 can compare easier manner to see difference clearly .\n",
      "\n",
      "9.9 를 99/10 로, 9.11 을 911/100 로 나타내어 비교합니다. \n",
      "\n",
      "이cstdlib commom denominator 를 찾는  thing is 필요하고,  common denominator 100 를 사용하여 9.9 를 990/100 로 나타내 manner can compare two numbers equally .\n",
      "\n",
      "이제 990/100 와 911/100 을 비교합니다. \n",
      "\n",
      "990 은 911 보다 다른 greater 기 때문에, 9.9 는 9.11 보다 큰 数值 입니다.\n",
      "</think>\n",
      "\n",
      "**문제:** 9.9와 9.11 중 무엇이 더 크니?\n",
      "\n",
      "**解答:**\n",
      "\n",
      "9.9와 9.11을 비교할 때, 다른 방법으로 decimals 를 integer form 로 바꾸어 비교하는 것이 가reatest easy method 입니다.\n",
      "\n",
      "1. **Convert to Integer Form:**\n",
      "   - 9.9 = \\( \\frac{99}{10} = 990/100 \\)\n",
      "   - 9.11 = \\( \\frac{911}{100} \\)\n",
      "\n",
      "2. **Comparison:**\n",
      "   - 990/100 는 911/100 보다 다른 greater 기 때문에, 9.9 는 9.11 보다 큰 数值 입니다.\n",
      "\n",
      "**결론:**\n",
      "\n",
      "\\[\n",
      "\\boxed{9.9}\n",
      "\\]"
     ]
    },
    {
     "data": {
      "text/markdown": [
       "<think>\n",
       "먼저, 9.9와 9.11을 비교하는 기준을 결정합니다.  decimla point 를 based 로 비교하는 가장 atural method 입니다. \n",
       "\n",
       "다른 방법으로 convert dozen decimal numbers integer form 에 가 수 can compare easier manner to see difference clearly .\n",
       "\n",
       "9.9 를 99/10 로, 9.11 을 911/100 로 나타내어 비교합니다. \n",
       "\n",
       "이cstdlib commom denominator 를 찾는  thing is 필요하고,  common denominator 100 를 사용하여 9.9 를 990/100 로 나타내 manner can compare two numbers equally .\n",
       "\n",
       "이제 990/100 와 911/100 을 비교합니다. \n",
       "\n",
       "990 은 911 보다 다른 greater 기 때문에, 9.9 는 9.11 보다 큰 数值 입니다.\n",
       "</think>\n",
       "\n",
       "**문제:** 9.9와 9.11 중 무엇이 더 크니?\n",
       "\n",
       "**解答:**\n",
       "\n",
       "9.9와 9.11을 비교할 때, 다른 방법으로 decimals 를 integer form 로 바꾸어 비교하는 것이 가reatest easy method 입니다.\n",
       "\n",
       "1. **Convert to Integer Form:**\n",
       "   - 9.9 = \\( \\frac{99}{10} = 990/100 \\)\n",
       "   - 9.11 = \\( \\frac{911}{100} \\)\n",
       "\n",
       "2. **Comparison:**\n",
       "   - 990/100 는 911/100 보다 다른 greater 기 때문에, 9.9 는 9.11 보다 큰 数值 입니다.\n",
       "\n",
       "**결론:**\n",
       "\n",
       "\\[\n",
       "\\boxed{9.9}\n",
       "\\]"
      ],
      "text/plain": [
       "<IPython.core.display.Markdown object>"
      ]
     },
     "metadata": {},
     "output_type": "display_data"
    }
   ],
   "source": [
    "answer = []\n",
    "for chunk in deepseek.stream(\"9.9와 9.11 중 무엇이 더 크니?\"):\n",
    "    answer.append(chunk.content)\n",
    "    print(chunk.content, end = \"\", flush = True) # 대화형처럼 출력되기 위해 flush = True\n",
    "    \n",
    "answer_md = ''.join([i for i in answer])\n",
    "display(Markdown(answer_md))"
   ]
  },
  {
   "cell_type": "markdown",
   "metadata": {},
   "source": [
    "언어가 r1-zero에서 보듯 다국어가 혼용되서 출력\\\n",
    "이유 추측 : 모델 파라미터가 작음"
   ]
  },
  {
   "cell_type": "code",
   "execution_count": 6,
   "metadata": {},
   "outputs": [
    {
     "name": "stdout",
     "output_type": "stream",
     "text": [
      "9.11이 9.9보다 큽니다. 숫자를 비교할 때는 소수점을 무시하고 정수 부분만 보아도 쉽게 알 수 있습니다. 여기서는 9.11이 더 큰 값입니다."
     ]
    }
   ],
   "source": [
    "## 한글 로컬 모델로 풀어보기 - Exaone(추론 x)\n",
    "answer = []\n",
    "for chunk in exaone.stream(\"9.9와 9.11 중 무엇이 더 크니?\"):\n",
    "    answer.append(chunk.content)\n",
    "    print(chunk.content, end = \"\", flush = True)"
   ]
  },
  {
   "cell_type": "markdown",
   "metadata": {},
   "source": [
    "답변이 틀린것을 확인"
   ]
  },
  {
   "cell_type": "markdown",
   "metadata": {},
   "source": [
    "여기까지 알 수 있는 점\n",
    "- Deepseek r1은 추론은 잘 하여 일반 LLM 대비 높은 성능을 보여주지만 한국어 생성 능력이 부족함\n",
    "- Exaone은 한국어 생성 능력이 뛰어나지만 추론 능력이 부족함\n",
    "\n",
    "이 두개를 결합하여 한국어 생성 능력과 추론 능력을 모두 갖춘 모델을 만들어보자"
   ]
  },
  {
   "cell_type": "markdown",
   "metadata": {},
   "source": [
    "## Deepseek(추론) + Exaone(답변)\n"
   ]
  },
  {
   "cell_type": "code",
   "execution_count": 14,
   "metadata": {},
   "outputs": [],
   "source": [
    "from langchain_ollama import ChatOllama\n",
    "\n",
    "reasoning_model = ChatOllama(model = \"deepseek-r1:7b\",\n",
    "                       temperature = 0,\n",
    "                       stop = [\"</think>\"]) # </think> 토큰이 나올때까지 토큰 생성 -> 추론모델이 think 태그까지 추론하는 부분을 살림"
   ]
  },
  {
   "cell_type": "code",
   "execution_count": 8,
   "metadata": {},
   "outputs": [],
   "source": [
    "generation_model = ChatOllama(model = \"exaone3.5:7.8b\",\n",
    "                              temperature = 0.7\n",
    "                              )"
   ]
  },
  {
   "cell_type": "markdown",
   "metadata": {},
   "source": [
    "## Using Langgraph"
   ]
  },
  {
   "cell_type": "code",
   "execution_count": 21,
   "metadata": {},
   "outputs": [],
   "source": [
    "from langgraph.graph import START, StateGraph\n",
    "from typing_extensions import List, TypedDict\n",
    "from langchain_core.prompts import ChatPromptTemplate\n",
    "\n",
    "# Langgraph에서 state는 노드 간의 정보를 전달할 틀\n",
    "# 노드 간에 계속 전달하고 싶거나, 그래프 내에서 유지해야할 정보를 미리 정의\n",
    "\n",
    "class State(TypedDict):\n",
    "    question: str\n",
    "    thinking: str\n",
    "    answer: str\n",
    "\n",
    "# gpt-o3로 prompt 생성    \n",
    "answer_prompt = ChatPromptTemplate([\n",
    "    (\n",
    "        \"system\",\n",
    "        \"\"\"\n",
    "You are a helpful AI assistant that provides clear and comprehensive answers based on given reasoning.\n",
    "\n",
    "Your task is to:\n",
    "- Carefully analyze both the question and the provided reasoning\n",
    "- Generate a well-structured response that incorporates the insights from the reasoning\n",
    "- Ensure your answer directly addresses the user's question\n",
    "- Present the information in a clear and natural way without explicitly mentioning the reasoning process\n",
    "\n",
    "Guidelines:\n",
    "- Make your response conversational and engaging\n",
    "- Focus on being clear and concise while covering all important points\n",
    "- Don't mention that you're using provided reasoning - just incorporate those insights naturally\n",
    "- Maintain a helpful and professional tone\n",
    "\n",
    "Remember: Your goal is to provide a natural, informative response that seamlessly incorporates\n",
    "the insights from the reasoning process while directly addressing the user's question.\n",
    "    \"\"\"\n",
    "    ),\n",
    "    (\n",
    "        \"human\",\n",
    "        \"\"\"\n",
    "        Question : {question}\n",
    "        Thinking : {thinking}\n",
    "        \"\"\"\n",
    "    ),\n",
    "])\n",
    "\n",
    "# Deepseek를 통해서 추론부분까지 생성 - think node\n",
    "def think(state : State):\n",
    "    question = state[\"question\"]\n",
    "    response = reasoning_model.invoke(question) # r1 모델을 통해 추론부분까지 생성\n",
    "    return {\"thinking\" : response.content}\n",
    "\n",
    "# Exaone을 통해서 답변 생성\n",
    "def generate(state : State):\n",
    "    messages = answer_prompt.invoke({\"question\": state[\"question\"], \"thinking\": state[\"thinking\"]})\n",
    "    response = generation_model.invoke(messages)\n",
    "    return {\"answer\" : response.content}\n",
    "\n",
    "graph_builder = StateGraph(State).add_sequence([think, generate])\n",
    "graph_builder.add_edge(START, \"think\")\n",
    "graph = graph_builder.compile()"
   ]
  },
  {
   "cell_type": "markdown",
   "metadata": {},
   "source": [
    "## 시각화"
   ]
  },
  {
   "cell_type": "code",
   "execution_count": null,
   "metadata": {},
   "outputs": [
    {
     "data": {
      "image/png": "[encoded data removed]",
      "text/plain": [
       "<IPython.core.display.Image object>"
      ]
     },
     "metadata": {},
     "output_type": "display_data"
    }
   ],
   "source": [
    "from langchain_core.runnables.graph import MermaidDrawMethod\n",
    "\n",
    "display(\n",
    "    Image(\n",
    "        graph.get_graph().draw_mermaid_png(\n",
    "            draw_method=MermaidDrawMethod.API,\n",
    "        )\n",
    "    )\n",
    ")"
   ]
  },
  {
   "cell_type": "code",
   "execution_count": 23,
   "metadata": {},
   "outputs": [
    {
     "name": "stdout",
     "output_type": "stream",
     "text": [
      "<think>\n",
      "먼저, 9.9와 9.11을 비교해야 합니다.\n",
      "\n",
      "9.9는 한 자리 หลoss  paise 로 0.1  unit 을 나타내고  있습니다.\n",
      "9.11은 이  paise 를 다 나타내고  0.01  unit 을 나타내고  있습니다.\n",
      "\n",
      "9.9 는 9.90  unit 로 同等  9  unit 와 90  paise 를 나타내고  있습니다.\n",
      "9.11 는 9  unit 와 11  paise 를 나타내고  있습니다.\n",
      "\n",
      "90  paise 는 10  paise 보다  8  paise 가  적 Fewer  than 11  paise 이 기ecause 1  unit 은 100  paise 입니다.\n",
      "9.11이 9.9보다 더 큽니다. \n",
      "\n",
      "숫자를 쉽게 비교해보면, 둘 다 '9'로 시작하지만 9.11은 소수점 아래에 '11'이라는 숫자가 더 큽니다. 이는 11 paise가 9 paise보다 더 많다는 것을 의미합니다. 결국, 9.11은 9.9보다 약간 더 큰 값을 나타냅니다."
     ]
    }
   ],
   "source": [
    "inputs = {\"question\" : \"9.9와 9.11 중 무엇이 더 큰가요??\"}\n",
    "\n",
    "async for event in graph.astream_events(inputs, version = \"v2\"):\n",
    "    kind = event[\"event\"]\n",
    "    if kind == \"on_chat_model_stream\":\n",
    "        print(event['data']['chunk'].content, end = \"\", flush = True)"
   ]
  },
  {
   "cell_type": "markdown",
   "metadata": {},
   "source": [
    "아직도 다국어가 혼영되는걸로 보여 프롬프트안에서 바꾸지는 못할거 같고 모델의 한계인것으로보여 다국어로 학습된 r1을 가져와서 동일 코드 진행"
   ]
  },
  {
   "cell_type": "code",
   "execution_count": null,
   "metadata": {},
   "outputs": [],
   "source": [
    "from langchain_ollama import ChatOllama\n",
    "\n",
    "reasoning_model = ChatOllama(model = \"kwangsuklee/DeepSeek-R1-Distill-Qwen-7B-Multilingual-Q5_K_M:latest\", # 다국어 finetuning 모델\n",
    "                       temperature = 0,\n",
    "                       stop = [\"</think>\"]) # </think> 토큰이 나올때까지 토큰 생성 -> 추론모델이 think 태그까지 추론하는 부분을 살림"
   ]
  },
  {
   "cell_type": "code",
   "execution_count": null,
   "metadata": {},
   "outputs": [],
   "source": [
    "from langgraph.graph import START, StateGraph\n",
    "from typing_extensions import List, TypedDict\n",
    "from langchain_core.prompts import ChatPromptTemplate\n",
    "\n",
    "# Langgraph에서 state는 노드 간의 정보를 전달할 틀\n",
    "# 노드 간에 계속 전달하고 싶거나, 그래프 내에서 유지해야할 정보를 미리 정의\n",
    "\n",
    "class State(TypedDict):\n",
    "    question: str\n",
    "    thinking: str\n",
    "    answer: str\n",
    "\n",
    "# gpt-o3로 prompt 생성    \n",
    "answer_prompt = ChatPromptTemplate([\n",
    "    (\n",
    "        \"system\",\n",
    "        \"\"\"\n",
    "You are a helpful AI assistant that provides clear and comprehensive answers based on given reasoning.\n",
    "\n",
    "Your task is to:\n",
    "- Carefully analyze both the question and the provided reasoning\n",
    "- Generate a well-structured response that incorporates the insights from the reasoning\n",
    "- Ensure your answer directly addresses the user's question\n",
    "- Present the information in a clear and natural way without explicitly mentioning the reasoning process\n",
    "\n",
    "Guidelines:\n",
    "- Make your response conversational and engaging\n",
    "- Focus on being clear and concise while covering all important points\n",
    "- Don't mention that you're using provided reasoning - just incorporate those insights naturally\n",
    "- Maintain a helpful and professional tone\n",
    "\n",
    "Remember: Your goal is to provide a natural, informative response that seamlessly incorporates\n",
    "the insights from the reasoning process while directly addressing the user's question.\n",
    "    \"\"\"\n",
    "    ),\n",
    "    (\n",
    "        \"human\",\n",
    "        \"\"\"\n",
    "        Question : {question}\n",
    "        Thinking : {thinking}\n",
    "        \"\"\"\n",
    "    ),\n",
    "])\n",
    "\n",
    "# Deepseek를 통해서 추론부분까지 생성 - think node\n",
    "def think(state : State):\n",
    "    question = state[\"question\"]\n",
    "    response = reasoning_model.invoke(question) # r1 모델을 통해 추론부분까지 생성\n",
    "    return {\"thinking\" : response.content}\n",
    "\n",
    "# Exaone을 통해서 답변 생성\n",
    "def generate(state : State):\n",
    "    messages = answer_prompt.invoke({\"question\": state[\"question\"], \"thinking\": state[\"thinking\"]})\n",
    "    response = generation_model.invoke(messages)\n",
    "    return {\"answer\" : response.content}\n",
    "\n",
    "graph_builder = StateGraph(State).add_sequence([think, generate])\n",
    "graph_builder.add_edge(START, \"think\")\n",
    "graph = graph_builder.compile()"
   ]
  },
  {
   "cell_type": "code",
   "execution_count": 26,
   "metadata": {},
   "outputs": [
    {
     "name": "stdout",
     "output_type": "stream",
     "text": [
      "<think>\n",
      "사용자가 9.9와 9.11 중 무엇이 더 큰지 물어보았습니다. 이는 두 수의 비교를 통해 정확한 답변을 제공해야 합니다.\n",
      "\n",
      "먼저, 9.9와 9.11을 비교하기 위해 소수점 이하의 자리수를 보겠습니다. 9.9는 9.90로, 9.11은 9.11로, 소수점 이하 두 자리 수로 표현할 수 있습니다.\n",
      "\n",
      "다음으로, 소수점 이하의 자리수를 비교합니다. 9.90의 소수점 이하 두 자리 수는 90, còn 9.11은 11입니다. 90이 11보다 크기 때문에, 9.90이 9.11보다 크다고 말할 수 있습니다.\n",
      "\n",
      "또한, 9.9와 9.11을 소수점 이하로만 비교하는 것이 중요합니다. 9.9는 9.90으로, 9.11은 9.11로, 9.90이 9.11보다 크기 때문에, 9.9가 9.11보다 큰 수입니다.\n",
      "\n",
      "마지막으로, 사용자가 9.9와 9.11 중 무엇이 더 큰지 물어보았기 때문에, 정확한 답변을 제공하기 위해 이 두 수의 비교를 통해 9.9가 9.11보다 큰 수라는 결론을 내릴 수 있습니다.\n",
      "사용자님, 9.9와 9.11 중에서 더 큰 수는 **9.9**입니다. \n",
      "\n",
      "두 숫자를 비교할 때, 소수점 아래의 자릿수까지 살펴보면 9.9는 실제로 9.90과 동일하게 볼 수 있습니다. 그리고 90이 11보다 크므로, 9.9가 9.11보다 더 큰 수임을 알 수 있습니다. 따라서 쉽게 말해, 숫자 줄에서 9.9가 9.11보다 오른쪽에 위치해 더 큰 값을 나타냅니다."
     ]
    }
   ],
   "source": [
    "inputs = {\"question\" : \"9.9와 9.11 중 무엇이 더 큰가요??\"}\n",
    "\n",
    "async for event in graph.astream_events(inputs, version = \"v2\"):\n",
    "    kind = event[\"event\"]\n",
    "    if kind == \"on_chat_model_stream\":\n",
    "        print(event['data']['chunk'].content, end = \"\", flush = True)"
   ]
  },
  {
   "cell_type": "markdown",
   "metadata": {},
   "source": [
    "조금 섞여 있는게 보이지만 그래도 전보다 나은 결과를 보여준다, 그리고 애초에 다국어 모델이니까 굳이 reasoning, generate model을 구분 할 필요도 없을거같다. "
   ]
  },
  {
   "cell_type": "markdown",
   "metadata": {},
   "source": [
    "이 밑으로는 LLM을 RAG에 결합시켜서 PDF탐색까지 한 번 해보자 - 이건 r1 multilingual만 활용\n"
   ]
  },
  {
   "cell_type": "code",
   "execution_count": null,
   "metadata": {},
   "outputs": [],
   "source": []
  }
 ],
 "metadata": {
  "kernelspec": {
   "display_name": "plg",
   "language": "python",
   "name": "python3"
  },
  "language_info": {
   "codemirror_mode": {
    "name": "ipython",
    "version": 3
   },
   "file_extension": ".py",
   "mimetype": "text/x-python",
   "name": "python",
   "nbconvert_exporter": "python",
   "pygments_lexer": "ipython3",
   "version": "3.9.20"
  }
 },
 "nbformat": 4,
 "nbformat_minor": 4
}
